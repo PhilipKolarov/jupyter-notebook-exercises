{
 "cells": [
  {
   "cell_type": "code",
   "execution_count": 2,
   "id": "2473d93b-d570-40be-ac86-2b0a8912edee",
   "metadata": {},
   "outputs": [
    {
     "name": "stdin",
     "output_type": "stream",
     "text": [
      " 1\n",
      " 10\n",
      " 5\n"
     ]
    },
    {
     "name": "stdout",
     "output_type": "stream",
     "text": [
      "[ 1.    3.25  5.5   7.75 10.  ]\n"
     ]
    }
   ],
   "source": [
    "import numpy as np\n",
    "\n",
    "start_num = int(input())\n",
    "end_num = int(input())\n",
    "n = int(input())\n",
    "\n",
    "evenly_spaced_array = np.linspace(start_num, end_num, num=n)\n",
    "print(evenly_spaced_array)"
   ]
  },
  {
   "cell_type": "code",
   "execution_count": null,
   "id": "5611ed1a-5a73-4a65-aafd-6b0e6d18be5c",
   "metadata": {},
   "outputs": [],
   "source": []
  }
 ],
 "metadata": {
  "kernelspec": {
   "display_name": "Python 3 (ipykernel)",
   "language": "python",
   "name": "python3"
  },
  "language_info": {
   "codemirror_mode": {
    "name": "ipython",
    "version": 3
   },
   "file_extension": ".py",
   "mimetype": "text/x-python",
   "name": "python",
   "nbconvert_exporter": "python",
   "pygments_lexer": "ipython3",
   "version": "3.9.13"
  }
 },
 "nbformat": 4,
 "nbformat_minor": 5
}

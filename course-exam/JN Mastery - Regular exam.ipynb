{
 "cells": [
  {
   "cell_type": "code",
   "execution_count": 67,
   "metadata": {
    "_kg_hide-input": true,
    "papermill": {
     "duration": 1.742393,
     "end_time": "2021-04-01T06:48:15.361447",
     "exception": false,
     "start_time": "2021-04-01T06:48:13.619054",
     "status": "completed"
    },
    "slideshow": {
     "slide_type": "skip"
    },
    "tags": []
   },
   "outputs": [],
   "source": [
    "# Importing libs\n",
    "import pandas as pd\n",
    "import numpy as np\n",
    "import matplotlib.pyplot as plt\n",
    "%matplotlib inline\n",
    "import datetime as dt"
   ]
  },
  {
   "cell_type": "markdown",
   "metadata": {},
   "source": [
    "# <center>Jupyter Notebook Matery - Regular exam"
   ]
  },
  {
   "cell_type": "markdown",
   "metadata": {},
   "source": [
    "# PART ONE - WORKING WITH DATA"
   ]
  },
  {
   "cell_type": "markdown",
   "metadata": {},
   "source": [
    "You are provided with a dataset which contains different characteristics of the content found on Netflix. There are several goals that you should achieve: \n",
    "\n",
    "- explore the relative share of TV Shows/Movies on Netflix, \n",
    "- find out what are the top 10 providers (countries) of content on Netflix, \n",
    "- explore how content has been added over the years.\n",
    "\n",
    "You will find cells named `TASK`. They define what task you should perform. Under each task you will find a cell, containing the comment _#YOUR CODE HERE_ in which you should write your solution.\n",
    "\n",
    "You will encounter `HELPER CELLS` which you should just run.\n",
    "\n",
    "**Good luck!** :)"
   ]
  },
  {
   "cell_type": "markdown",
   "metadata": {},
   "source": [
    "## Reading the data"
   ]
  },
  {
   "cell_type": "markdown",
   "metadata": {},
   "source": [
    "<b><font color='#8B0000'>TASK</font></b>\n",
    "\n",
    "Read the dataset as a Pandas dataframe and show the **first three rows** of it.\n",
    "\n",
    "Store the dataset in the variable `netflix_data`."
   ]
  },
  {
   "cell_type": "code",
   "execution_count": 68,
   "metadata": {},
   "outputs": [
    {
     "data": {
      "text/html": [
       "<div>\n",
       "<style scoped>\n",
       "    .dataframe tbody tr th:only-of-type {\n",
       "        vertical-align: middle;\n",
       "    }\n",
       "\n",
       "    .dataframe tbody tr th {\n",
       "        vertical-align: top;\n",
       "    }\n",
       "\n",
       "    .dataframe thead th {\n",
       "        text-align: right;\n",
       "    }\n",
       "</style>\n",
       "<table border=\"1\" class=\"dataframe\">\n",
       "  <thead>\n",
       "    <tr style=\"text-align: right;\">\n",
       "      <th></th>\n",
       "      <th>show_id</th>\n",
       "      <th>type</th>\n",
       "      <th>title</th>\n",
       "      <th>director</th>\n",
       "      <th>cast</th>\n",
       "      <th>country</th>\n",
       "      <th>date_added</th>\n",
       "      <th>release_year</th>\n",
       "      <th>rating</th>\n",
       "      <th>duration</th>\n",
       "      <th>listed_in</th>\n",
       "      <th>description</th>\n",
       "    </tr>\n",
       "  </thead>\n",
       "  <tbody>\n",
       "    <tr>\n",
       "      <th>0</th>\n",
       "      <td>s1</td>\n",
       "      <td>TV Show</td>\n",
       "      <td>3%</td>\n",
       "      <td>NaN</td>\n",
       "      <td>João Miguel, Bianca Comparato, Michel Gomes, R...</td>\n",
       "      <td>Brazil</td>\n",
       "      <td>August 14, 2020</td>\n",
       "      <td>2020</td>\n",
       "      <td>TV-MA</td>\n",
       "      <td>4 Seasons</td>\n",
       "      <td>International TV Shows, TV Dramas, TV Sci-Fi &amp;...</td>\n",
       "      <td>In a future where the elite inhabit an island ...</td>\n",
       "    </tr>\n",
       "    <tr>\n",
       "      <th>1</th>\n",
       "      <td>s2</td>\n",
       "      <td>Movie</td>\n",
       "      <td>7:19</td>\n",
       "      <td>Jorge Michel Grau</td>\n",
       "      <td>Demián Bichir, Héctor Bonilla, Oscar Serrano, ...</td>\n",
       "      <td>Mexico</td>\n",
       "      <td>December 23, 2016</td>\n",
       "      <td>2016</td>\n",
       "      <td>TV-MA</td>\n",
       "      <td>93 min</td>\n",
       "      <td>Dramas, International Movies</td>\n",
       "      <td>After a devastating earthquake hits Mexico Cit...</td>\n",
       "    </tr>\n",
       "    <tr>\n",
       "      <th>2</th>\n",
       "      <td>s3</td>\n",
       "      <td>Movie</td>\n",
       "      <td>23:59</td>\n",
       "      <td>Gilbert Chan</td>\n",
       "      <td>Tedd Chan, Stella Chung, Henley Hii, Lawrence ...</td>\n",
       "      <td>Singapore</td>\n",
       "      <td>December 20, 2018</td>\n",
       "      <td>2011</td>\n",
       "      <td>R</td>\n",
       "      <td>78 min</td>\n",
       "      <td>Horror Movies, International Movies</td>\n",
       "      <td>When an army recruit is found dead, his fellow...</td>\n",
       "    </tr>\n",
       "  </tbody>\n",
       "</table>\n",
       "</div>"
      ],
      "text/plain": [
       "  show_id     type  title           director  \\\n",
       "0      s1  TV Show     3%                NaN   \n",
       "1      s2    Movie   7:19  Jorge Michel Grau   \n",
       "2      s3    Movie  23:59       Gilbert Chan   \n",
       "\n",
       "                                                cast    country  \\\n",
       "0  João Miguel, Bianca Comparato, Michel Gomes, R...     Brazil   \n",
       "1  Demián Bichir, Héctor Bonilla, Oscar Serrano, ...     Mexico   \n",
       "2  Tedd Chan, Stella Chung, Henley Hii, Lawrence ...  Singapore   \n",
       "\n",
       "          date_added  release_year rating   duration  \\\n",
       "0    August 14, 2020          2020  TV-MA  4 Seasons   \n",
       "1  December 23, 2016          2016  TV-MA     93 min   \n",
       "2  December 20, 2018          2011      R     78 min   \n",
       "\n",
       "                                           listed_in  \\\n",
       "0  International TV Shows, TV Dramas, TV Sci-Fi &...   \n",
       "1                       Dramas, International Movies   \n",
       "2                Horror Movies, International Movies   \n",
       "\n",
       "                                         description  \n",
       "0  In a future where the elite inhabit an island ...  \n",
       "1  After a devastating earthquake hits Mexico Cit...  \n",
       "2  When an army recruit is found dead, his fellow...  "
      ]
     },
     "execution_count": 68,
     "metadata": {},
     "output_type": "execute_result"
    }
   ],
   "source": [
    "netflix_data = None\n",
    "#YOUR CODE HERE\n",
    "\n",
    "netflix_data = pd.read_csv('netflix_titles.csv')\n",
    "netflix_data.head(3)"
   ]
  },
  {
   "cell_type": "markdown",
   "metadata": {},
   "source": [
    "<b><font color='#8B0000'>TASK</font></b>\n",
    "\n",
    "Present the number of rows and number of columns in the dataset in the following format:<br><br> \"Number of rows: {rows}, number of columns: {columns}\""
   ]
  },
  {
   "cell_type": "code",
   "execution_count": 69,
   "metadata": {
    "_kg_hide-input": true,
    "papermill": {
     "duration": 0.198024,
     "end_time": "2021-04-01T06:48:15.593585",
     "exception": false,
     "start_time": "2021-04-01T06:48:15.395561",
     "status": "completed"
    },
    "slideshow": {
     "slide_type": "slide"
    },
    "tags": []
   },
   "outputs": [
    {
     "name": "stdout",
     "output_type": "stream",
     "text": [
      "Number of rows: 7787, number of columns: 12\n"
     ]
    }
   ],
   "source": [
    "#YOUR CODE HERE\n",
    "print(f\"Number of rows: {netflix_data.shape[0]}, number of columns: {netflix_data.shape[1]}\")"
   ]
  },
  {
   "cell_type": "markdown",
   "metadata": {
    "slideshow": {
     "slide_type": "slide"
    }
   },
   "source": [
    "## Find missing data"
   ]
  },
  {
   "cell_type": "markdown",
   "metadata": {},
   "source": [
    "<b><font color='#8B0000'>TASK</font></b>\n",
    "\n",
    "On separate lines, print the null rate of every column that contains null values in the following format: <br><br> \n",
    "\n",
    "\"{column1} null rate: {null_rate1}\" <br>\n",
    "\"{column2} null rate: {null_rate2}\" <br>\n",
    "..."
   ]
  },
  {
   "cell_type": "code",
   "execution_count": 70,
   "metadata": {
    "_kg_hide-input": true,
    "papermill": {
     "duration": 0.05858,
     "end_time": "2021-04-01T06:48:15.686071",
     "exception": false,
     "start_time": "2021-04-01T06:48:15.627491",
     "status": "completed"
    },
    "slideshow": {
     "slide_type": "fragment"
    },
    "tags": []
   },
   "outputs": [
    {
     "name": "stdout",
     "output_type": "stream",
     "text": [
      "director null rate: 0.30679337357133685\n",
      "cast null rate: 0.09220495697958135\n",
      "country null rate: 0.0651085141903172\n",
      "date_added null rate: 0.0012841916013869269\n",
      "rating null rate: 0.0008989341209708489\n"
     ]
    }
   ],
   "source": [
    "#YOUR CODE HERE\n",
    "for col in netflix_data.columns:\n",
    "    if netflix_data[col].isna().any():\n",
    "        null_rate = netflix_data[col].isna().sum() / len(netflix_data[col])\n",
    "        print(f\"{col} null rate: {null_rate}\")"
   ]
  },
  {
   "cell_type": "markdown",
   "metadata": {
    "papermill": {
     "duration": 0.034047,
     "end_time": "2021-04-01T06:48:15.823924",
     "exception": false,
     "start_time": "2021-04-01T06:48:15.789877",
     "status": "completed"
    },
    "slideshow": {
     "slide_type": "slide"
    },
    "tags": []
   },
   "source": [
    "## Dealing with the missing data"
   ]
  },
  {
   "cell_type": "markdown",
   "metadata": {},
   "source": [
    "<b><font color='#8B0000'>TASK</font></b>\n",
    "\n",
    "Replace blank countries with the mode (most frequently ocurring) country."
   ]
  },
  {
   "cell_type": "code",
   "execution_count": 71,
   "metadata": {},
   "outputs": [],
   "source": [
    "#YOUR CODE HERE\n",
    "netflix_data['country'] = netflix_data['country'].fillna(netflix_data['country'].mode()[0])"
   ]
  },
  {
   "cell_type": "markdown",
   "metadata": {},
   "source": [
    "<b><font color='#8B0000'>TASK</font></b>\n",
    "\n",
    "Replace the missing values in the _director_ column with the string **'No Data'**."
   ]
  },
  {
   "cell_type": "code",
   "execution_count": 72,
   "metadata": {},
   "outputs": [],
   "source": [
    "#YOUR CODE HERE\n",
    "netflix_data['director'] = netflix_data['director'].fillna('No Data')"
   ]
  },
  {
   "cell_type": "markdown",
   "metadata": {},
   "source": [
    "<b><font color='#8B0000'>TASK</font></b>\n",
    "\n",
    "Replace the missing values in the _cast_ column with the string **'No Data'**."
   ]
  },
  {
   "cell_type": "code",
   "execution_count": 73,
   "metadata": {},
   "outputs": [],
   "source": [
    "#YOUR CODE HERE\n",
    "netflix_data['cast'] = netflix_data['cast'].fillna('No Data')"
   ]
  },
  {
   "cell_type": "markdown",
   "metadata": {},
   "source": [
    "<b><font color='#8B0000'>TASK</font></b>\n",
    "\n",
    "Drop all other columns with missing values."
   ]
  },
  {
   "cell_type": "code",
   "execution_count": 74,
   "metadata": {},
   "outputs": [],
   "source": [
    "#YOUR CODE HERE\n",
    "for col in netflix_data.columns:\n",
    "    if netflix_data[col].isna().any() and col != 'date_added':\n",
    "        netflix_data = netflix_data.drop(col, axis=1)"
   ]
  },
  {
   "cell_type": "markdown",
   "metadata": {},
   "source": [
    "<b><font color='#8B0000'>TASK</font></b>\n",
    "\n",
    "Drop all the duplicates in the data."
   ]
  },
  {
   "cell_type": "code",
   "execution_count": 75,
   "metadata": {
    "papermill": {
     "duration": 0.113267,
     "end_time": "2021-04-01T06:48:15.971625",
     "exception": false,
     "start_time": "2021-04-01T06:48:15.858358",
     "status": "completed"
    },
    "slideshow": {
     "slide_type": "skip"
    },
    "tags": []
   },
   "outputs": [
    {
     "data": {
      "text/html": [
       "<div>\n",
       "<style scoped>\n",
       "    .dataframe tbody tr th:only-of-type {\n",
       "        vertical-align: middle;\n",
       "    }\n",
       "\n",
       "    .dataframe tbody tr th {\n",
       "        vertical-align: top;\n",
       "    }\n",
       "\n",
       "    .dataframe thead th {\n",
       "        text-align: right;\n",
       "    }\n",
       "</style>\n",
       "<table border=\"1\" class=\"dataframe\">\n",
       "  <thead>\n",
       "    <tr style=\"text-align: right;\">\n",
       "      <th></th>\n",
       "      <th>show_id</th>\n",
       "      <th>type</th>\n",
       "      <th>title</th>\n",
       "      <th>director</th>\n",
       "      <th>cast</th>\n",
       "      <th>country</th>\n",
       "      <th>date_added</th>\n",
       "      <th>release_year</th>\n",
       "      <th>duration</th>\n",
       "      <th>listed_in</th>\n",
       "      <th>description</th>\n",
       "    </tr>\n",
       "  </thead>\n",
       "  <tbody>\n",
       "    <tr>\n",
       "      <th>0</th>\n",
       "      <td>s1</td>\n",
       "      <td>TV Show</td>\n",
       "      <td>3%</td>\n",
       "      <td>No Data</td>\n",
       "      <td>João Miguel, Bianca Comparato, Michel Gomes, R...</td>\n",
       "      <td>Brazil</td>\n",
       "      <td>August 14, 2020</td>\n",
       "      <td>2020</td>\n",
       "      <td>4 Seasons</td>\n",
       "      <td>International TV Shows, TV Dramas, TV Sci-Fi &amp;...</td>\n",
       "      <td>In a future where the elite inhabit an island ...</td>\n",
       "    </tr>\n",
       "    <tr>\n",
       "      <th>1</th>\n",
       "      <td>s2</td>\n",
       "      <td>Movie</td>\n",
       "      <td>7:19</td>\n",
       "      <td>Jorge Michel Grau</td>\n",
       "      <td>Demián Bichir, Héctor Bonilla, Oscar Serrano, ...</td>\n",
       "      <td>Mexico</td>\n",
       "      <td>December 23, 2016</td>\n",
       "      <td>2016</td>\n",
       "      <td>93 min</td>\n",
       "      <td>Dramas, International Movies</td>\n",
       "      <td>After a devastating earthquake hits Mexico Cit...</td>\n",
       "    </tr>\n",
       "    <tr>\n",
       "      <th>2</th>\n",
       "      <td>s3</td>\n",
       "      <td>Movie</td>\n",
       "      <td>23:59</td>\n",
       "      <td>Gilbert Chan</td>\n",
       "      <td>Tedd Chan, Stella Chung, Henley Hii, Lawrence ...</td>\n",
       "      <td>Singapore</td>\n",
       "      <td>December 20, 2018</td>\n",
       "      <td>2011</td>\n",
       "      <td>78 min</td>\n",
       "      <td>Horror Movies, International Movies</td>\n",
       "      <td>When an army recruit is found dead, his fellow...</td>\n",
       "    </tr>\n",
       "    <tr>\n",
       "      <th>3</th>\n",
       "      <td>s4</td>\n",
       "      <td>Movie</td>\n",
       "      <td>9</td>\n",
       "      <td>Shane Acker</td>\n",
       "      <td>Elijah Wood, John C. Reilly, Jennifer Connelly...</td>\n",
       "      <td>United States</td>\n",
       "      <td>November 16, 2017</td>\n",
       "      <td>2009</td>\n",
       "      <td>80 min</td>\n",
       "      <td>Action &amp; Adventure, Independent Movies, Sci-Fi...</td>\n",
       "      <td>In a postapocalyptic world, rag-doll robots hi...</td>\n",
       "    </tr>\n",
       "    <tr>\n",
       "      <th>4</th>\n",
       "      <td>s5</td>\n",
       "      <td>Movie</td>\n",
       "      <td>21</td>\n",
       "      <td>Robert Luketic</td>\n",
       "      <td>Jim Sturgess, Kevin Spacey, Kate Bosworth, Aar...</td>\n",
       "      <td>United States</td>\n",
       "      <td>January 1, 2020</td>\n",
       "      <td>2008</td>\n",
       "      <td>123 min</td>\n",
       "      <td>Dramas</td>\n",
       "      <td>A brilliant group of students become card-coun...</td>\n",
       "    </tr>\n",
       "    <tr>\n",
       "      <th>...</th>\n",
       "      <td>...</td>\n",
       "      <td>...</td>\n",
       "      <td>...</td>\n",
       "      <td>...</td>\n",
       "      <td>...</td>\n",
       "      <td>...</td>\n",
       "      <td>...</td>\n",
       "      <td>...</td>\n",
       "      <td>...</td>\n",
       "      <td>...</td>\n",
       "      <td>...</td>\n",
       "    </tr>\n",
       "    <tr>\n",
       "      <th>7782</th>\n",
       "      <td>s7783</td>\n",
       "      <td>Movie</td>\n",
       "      <td>Zozo</td>\n",
       "      <td>Josef Fares</td>\n",
       "      <td>Imad Creidi, Antoinette Turk, Elias Gergi, Car...</td>\n",
       "      <td>Sweden, Czech Republic, United Kingdom, Denmar...</td>\n",
       "      <td>October 19, 2020</td>\n",
       "      <td>2005</td>\n",
       "      <td>99 min</td>\n",
       "      <td>Dramas, International Movies</td>\n",
       "      <td>When Lebanon's Civil War deprives Zozo of his ...</td>\n",
       "    </tr>\n",
       "    <tr>\n",
       "      <th>7783</th>\n",
       "      <td>s7784</td>\n",
       "      <td>Movie</td>\n",
       "      <td>Zubaan</td>\n",
       "      <td>Mozez Singh</td>\n",
       "      <td>Vicky Kaushal, Sarah-Jane Dias, Raaghav Chanan...</td>\n",
       "      <td>India</td>\n",
       "      <td>March 2, 2019</td>\n",
       "      <td>2015</td>\n",
       "      <td>111 min</td>\n",
       "      <td>Dramas, International Movies, Music &amp; Musicals</td>\n",
       "      <td>A scrappy but poor boy worms his way into a ty...</td>\n",
       "    </tr>\n",
       "    <tr>\n",
       "      <th>7784</th>\n",
       "      <td>s7785</td>\n",
       "      <td>Movie</td>\n",
       "      <td>Zulu Man in Japan</td>\n",
       "      <td>No Data</td>\n",
       "      <td>Nasty C</td>\n",
       "      <td>United States</td>\n",
       "      <td>September 25, 2020</td>\n",
       "      <td>2019</td>\n",
       "      <td>44 min</td>\n",
       "      <td>Documentaries, International Movies, Music &amp; M...</td>\n",
       "      <td>In this documentary, South African rapper Nast...</td>\n",
       "    </tr>\n",
       "    <tr>\n",
       "      <th>7785</th>\n",
       "      <td>s7786</td>\n",
       "      <td>TV Show</td>\n",
       "      <td>Zumbo's Just Desserts</td>\n",
       "      <td>No Data</td>\n",
       "      <td>Adriano Zumbo, Rachel Khoo</td>\n",
       "      <td>Australia</td>\n",
       "      <td>October 31, 2020</td>\n",
       "      <td>2019</td>\n",
       "      <td>1 Season</td>\n",
       "      <td>International TV Shows, Reality TV</td>\n",
       "      <td>Dessert wizard Adriano Zumbo looks for the nex...</td>\n",
       "    </tr>\n",
       "    <tr>\n",
       "      <th>7786</th>\n",
       "      <td>s7787</td>\n",
       "      <td>Movie</td>\n",
       "      <td>ZZ TOP: THAT LITTLE OL' BAND FROM TEXAS</td>\n",
       "      <td>Sam Dunn</td>\n",
       "      <td>No Data</td>\n",
       "      <td>United Kingdom, Canada, United States</td>\n",
       "      <td>March 1, 2020</td>\n",
       "      <td>2019</td>\n",
       "      <td>90 min</td>\n",
       "      <td>Documentaries, Music &amp; Musicals</td>\n",
       "      <td>This documentary delves into the mystique behi...</td>\n",
       "    </tr>\n",
       "  </tbody>\n",
       "</table>\n",
       "<p>7787 rows × 11 columns</p>\n",
       "</div>"
      ],
      "text/plain": [
       "     show_id     type                                    title  \\\n",
       "0         s1  TV Show                                       3%   \n",
       "1         s2    Movie                                     7:19   \n",
       "2         s3    Movie                                    23:59   \n",
       "3         s4    Movie                                        9   \n",
       "4         s5    Movie                                       21   \n",
       "...      ...      ...                                      ...   \n",
       "7782   s7783    Movie                                     Zozo   \n",
       "7783   s7784    Movie                                   Zubaan   \n",
       "7784   s7785    Movie                        Zulu Man in Japan   \n",
       "7785   s7786  TV Show                    Zumbo's Just Desserts   \n",
       "7786   s7787    Movie  ZZ TOP: THAT LITTLE OL' BAND FROM TEXAS   \n",
       "\n",
       "               director                                               cast  \\\n",
       "0               No Data  João Miguel, Bianca Comparato, Michel Gomes, R...   \n",
       "1     Jorge Michel Grau  Demián Bichir, Héctor Bonilla, Oscar Serrano, ...   \n",
       "2          Gilbert Chan  Tedd Chan, Stella Chung, Henley Hii, Lawrence ...   \n",
       "3           Shane Acker  Elijah Wood, John C. Reilly, Jennifer Connelly...   \n",
       "4        Robert Luketic  Jim Sturgess, Kevin Spacey, Kate Bosworth, Aar...   \n",
       "...                 ...                                                ...   \n",
       "7782        Josef Fares  Imad Creidi, Antoinette Turk, Elias Gergi, Car...   \n",
       "7783        Mozez Singh  Vicky Kaushal, Sarah-Jane Dias, Raaghav Chanan...   \n",
       "7784            No Data                                            Nasty C   \n",
       "7785            No Data                         Adriano Zumbo, Rachel Khoo   \n",
       "7786           Sam Dunn                                            No Data   \n",
       "\n",
       "                                                country          date_added  \\\n",
       "0                                                Brazil     August 14, 2020   \n",
       "1                                                Mexico   December 23, 2016   \n",
       "2                                             Singapore   December 20, 2018   \n",
       "3                                         United States   November 16, 2017   \n",
       "4                                         United States     January 1, 2020   \n",
       "...                                                 ...                 ...   \n",
       "7782  Sweden, Czech Republic, United Kingdom, Denmar...    October 19, 2020   \n",
       "7783                                              India       March 2, 2019   \n",
       "7784                                      United States  September 25, 2020   \n",
       "7785                                          Australia    October 31, 2020   \n",
       "7786              United Kingdom, Canada, United States       March 1, 2020   \n",
       "\n",
       "      release_year   duration  \\\n",
       "0             2020  4 Seasons   \n",
       "1             2016     93 min   \n",
       "2             2011     78 min   \n",
       "3             2009     80 min   \n",
       "4             2008    123 min   \n",
       "...            ...        ...   \n",
       "7782          2005     99 min   \n",
       "7783          2015    111 min   \n",
       "7784          2019     44 min   \n",
       "7785          2019   1 Season   \n",
       "7786          2019     90 min   \n",
       "\n",
       "                                              listed_in  \\\n",
       "0     International TV Shows, TV Dramas, TV Sci-Fi &...   \n",
       "1                          Dramas, International Movies   \n",
       "2                   Horror Movies, International Movies   \n",
       "3     Action & Adventure, Independent Movies, Sci-Fi...   \n",
       "4                                                Dramas   \n",
       "...                                                 ...   \n",
       "7782                       Dramas, International Movies   \n",
       "7783     Dramas, International Movies, Music & Musicals   \n",
       "7784  Documentaries, International Movies, Music & M...   \n",
       "7785                 International TV Shows, Reality TV   \n",
       "7786                    Documentaries, Music & Musicals   \n",
       "\n",
       "                                            description  \n",
       "0     In a future where the elite inhabit an island ...  \n",
       "1     After a devastating earthquake hits Mexico Cit...  \n",
       "2     When an army recruit is found dead, his fellow...  \n",
       "3     In a postapocalyptic world, rag-doll robots hi...  \n",
       "4     A brilliant group of students become card-coun...  \n",
       "...                                                 ...  \n",
       "7782  When Lebanon's Civil War deprives Zozo of his ...  \n",
       "7783  A scrappy but poor boy worms his way into a ty...  \n",
       "7784  In this documentary, South African rapper Nast...  \n",
       "7785  Dessert wizard Adriano Zumbo looks for the nex...  \n",
       "7786  This documentary delves into the mystique behi...  \n",
       "\n",
       "[7787 rows x 11 columns]"
      ]
     },
     "execution_count": 75,
     "metadata": {},
     "output_type": "execute_result"
    }
   ],
   "source": [
    "#YOUR CODE HERE\n",
    "netflix_data.drop_duplicates()"
   ]
  },
  {
   "cell_type": "markdown",
   "metadata": {},
   "source": [
    "<b><font color='#8B0000'>TASK</font></b>\n",
    "\n",
    "Drop the rows where country is a null value."
   ]
  },
  {
   "cell_type": "code",
   "execution_count": 76,
   "metadata": {},
   "outputs": [
    {
     "data": {
      "text/html": [
       "<div>\n",
       "<style scoped>\n",
       "    .dataframe tbody tr th:only-of-type {\n",
       "        vertical-align: middle;\n",
       "    }\n",
       "\n",
       "    .dataframe tbody tr th {\n",
       "        vertical-align: top;\n",
       "    }\n",
       "\n",
       "    .dataframe thead th {\n",
       "        text-align: right;\n",
       "    }\n",
       "</style>\n",
       "<table border=\"1\" class=\"dataframe\">\n",
       "  <thead>\n",
       "    <tr style=\"text-align: right;\">\n",
       "      <th></th>\n",
       "      <th>show_id</th>\n",
       "      <th>type</th>\n",
       "      <th>title</th>\n",
       "      <th>director</th>\n",
       "      <th>cast</th>\n",
       "      <th>country</th>\n",
       "      <th>date_added</th>\n",
       "      <th>release_year</th>\n",
       "      <th>duration</th>\n",
       "      <th>listed_in</th>\n",
       "      <th>description</th>\n",
       "    </tr>\n",
       "  </thead>\n",
       "  <tbody>\n",
       "    <tr>\n",
       "      <th>0</th>\n",
       "      <td>s1</td>\n",
       "      <td>TV Show</td>\n",
       "      <td>3%</td>\n",
       "      <td>No Data</td>\n",
       "      <td>João Miguel, Bianca Comparato, Michel Gomes, R...</td>\n",
       "      <td>Brazil</td>\n",
       "      <td>August 14, 2020</td>\n",
       "      <td>2020</td>\n",
       "      <td>4 Seasons</td>\n",
       "      <td>International TV Shows, TV Dramas, TV Sci-Fi &amp;...</td>\n",
       "      <td>In a future where the elite inhabit an island ...</td>\n",
       "    </tr>\n",
       "    <tr>\n",
       "      <th>1</th>\n",
       "      <td>s2</td>\n",
       "      <td>Movie</td>\n",
       "      <td>7:19</td>\n",
       "      <td>Jorge Michel Grau</td>\n",
       "      <td>Demián Bichir, Héctor Bonilla, Oscar Serrano, ...</td>\n",
       "      <td>Mexico</td>\n",
       "      <td>December 23, 2016</td>\n",
       "      <td>2016</td>\n",
       "      <td>93 min</td>\n",
       "      <td>Dramas, International Movies</td>\n",
       "      <td>After a devastating earthquake hits Mexico Cit...</td>\n",
       "    </tr>\n",
       "    <tr>\n",
       "      <th>2</th>\n",
       "      <td>s3</td>\n",
       "      <td>Movie</td>\n",
       "      <td>23:59</td>\n",
       "      <td>Gilbert Chan</td>\n",
       "      <td>Tedd Chan, Stella Chung, Henley Hii, Lawrence ...</td>\n",
       "      <td>Singapore</td>\n",
       "      <td>December 20, 2018</td>\n",
       "      <td>2011</td>\n",
       "      <td>78 min</td>\n",
       "      <td>Horror Movies, International Movies</td>\n",
       "      <td>When an army recruit is found dead, his fellow...</td>\n",
       "    </tr>\n",
       "    <tr>\n",
       "      <th>3</th>\n",
       "      <td>s4</td>\n",
       "      <td>Movie</td>\n",
       "      <td>9</td>\n",
       "      <td>Shane Acker</td>\n",
       "      <td>Elijah Wood, John C. Reilly, Jennifer Connelly...</td>\n",
       "      <td>United States</td>\n",
       "      <td>November 16, 2017</td>\n",
       "      <td>2009</td>\n",
       "      <td>80 min</td>\n",
       "      <td>Action &amp; Adventure, Independent Movies, Sci-Fi...</td>\n",
       "      <td>In a postapocalyptic world, rag-doll robots hi...</td>\n",
       "    </tr>\n",
       "    <tr>\n",
       "      <th>4</th>\n",
       "      <td>s5</td>\n",
       "      <td>Movie</td>\n",
       "      <td>21</td>\n",
       "      <td>Robert Luketic</td>\n",
       "      <td>Jim Sturgess, Kevin Spacey, Kate Bosworth, Aar...</td>\n",
       "      <td>United States</td>\n",
       "      <td>January 1, 2020</td>\n",
       "      <td>2008</td>\n",
       "      <td>123 min</td>\n",
       "      <td>Dramas</td>\n",
       "      <td>A brilliant group of students become card-coun...</td>\n",
       "    </tr>\n",
       "    <tr>\n",
       "      <th>...</th>\n",
       "      <td>...</td>\n",
       "      <td>...</td>\n",
       "      <td>...</td>\n",
       "      <td>...</td>\n",
       "      <td>...</td>\n",
       "      <td>...</td>\n",
       "      <td>...</td>\n",
       "      <td>...</td>\n",
       "      <td>...</td>\n",
       "      <td>...</td>\n",
       "      <td>...</td>\n",
       "    </tr>\n",
       "    <tr>\n",
       "      <th>7782</th>\n",
       "      <td>s7783</td>\n",
       "      <td>Movie</td>\n",
       "      <td>Zozo</td>\n",
       "      <td>Josef Fares</td>\n",
       "      <td>Imad Creidi, Antoinette Turk, Elias Gergi, Car...</td>\n",
       "      <td>Sweden, Czech Republic, United Kingdom, Denmar...</td>\n",
       "      <td>October 19, 2020</td>\n",
       "      <td>2005</td>\n",
       "      <td>99 min</td>\n",
       "      <td>Dramas, International Movies</td>\n",
       "      <td>When Lebanon's Civil War deprives Zozo of his ...</td>\n",
       "    </tr>\n",
       "    <tr>\n",
       "      <th>7783</th>\n",
       "      <td>s7784</td>\n",
       "      <td>Movie</td>\n",
       "      <td>Zubaan</td>\n",
       "      <td>Mozez Singh</td>\n",
       "      <td>Vicky Kaushal, Sarah-Jane Dias, Raaghav Chanan...</td>\n",
       "      <td>India</td>\n",
       "      <td>March 2, 2019</td>\n",
       "      <td>2015</td>\n",
       "      <td>111 min</td>\n",
       "      <td>Dramas, International Movies, Music &amp; Musicals</td>\n",
       "      <td>A scrappy but poor boy worms his way into a ty...</td>\n",
       "    </tr>\n",
       "    <tr>\n",
       "      <th>7784</th>\n",
       "      <td>s7785</td>\n",
       "      <td>Movie</td>\n",
       "      <td>Zulu Man in Japan</td>\n",
       "      <td>No Data</td>\n",
       "      <td>Nasty C</td>\n",
       "      <td>United States</td>\n",
       "      <td>September 25, 2020</td>\n",
       "      <td>2019</td>\n",
       "      <td>44 min</td>\n",
       "      <td>Documentaries, International Movies, Music &amp; M...</td>\n",
       "      <td>In this documentary, South African rapper Nast...</td>\n",
       "    </tr>\n",
       "    <tr>\n",
       "      <th>7785</th>\n",
       "      <td>s7786</td>\n",
       "      <td>TV Show</td>\n",
       "      <td>Zumbo's Just Desserts</td>\n",
       "      <td>No Data</td>\n",
       "      <td>Adriano Zumbo, Rachel Khoo</td>\n",
       "      <td>Australia</td>\n",
       "      <td>October 31, 2020</td>\n",
       "      <td>2019</td>\n",
       "      <td>1 Season</td>\n",
       "      <td>International TV Shows, Reality TV</td>\n",
       "      <td>Dessert wizard Adriano Zumbo looks for the nex...</td>\n",
       "    </tr>\n",
       "    <tr>\n",
       "      <th>7786</th>\n",
       "      <td>s7787</td>\n",
       "      <td>Movie</td>\n",
       "      <td>ZZ TOP: THAT LITTLE OL' BAND FROM TEXAS</td>\n",
       "      <td>Sam Dunn</td>\n",
       "      <td>No Data</td>\n",
       "      <td>United Kingdom, Canada, United States</td>\n",
       "      <td>March 1, 2020</td>\n",
       "      <td>2019</td>\n",
       "      <td>90 min</td>\n",
       "      <td>Documentaries, Music &amp; Musicals</td>\n",
       "      <td>This documentary delves into the mystique behi...</td>\n",
       "    </tr>\n",
       "  </tbody>\n",
       "</table>\n",
       "<p>7787 rows × 11 columns</p>\n",
       "</div>"
      ],
      "text/plain": [
       "     show_id     type                                    title  \\\n",
       "0         s1  TV Show                                       3%   \n",
       "1         s2    Movie                                     7:19   \n",
       "2         s3    Movie                                    23:59   \n",
       "3         s4    Movie                                        9   \n",
       "4         s5    Movie                                       21   \n",
       "...      ...      ...                                      ...   \n",
       "7782   s7783    Movie                                     Zozo   \n",
       "7783   s7784    Movie                                   Zubaan   \n",
       "7784   s7785    Movie                        Zulu Man in Japan   \n",
       "7785   s7786  TV Show                    Zumbo's Just Desserts   \n",
       "7786   s7787    Movie  ZZ TOP: THAT LITTLE OL' BAND FROM TEXAS   \n",
       "\n",
       "               director                                               cast  \\\n",
       "0               No Data  João Miguel, Bianca Comparato, Michel Gomes, R...   \n",
       "1     Jorge Michel Grau  Demián Bichir, Héctor Bonilla, Oscar Serrano, ...   \n",
       "2          Gilbert Chan  Tedd Chan, Stella Chung, Henley Hii, Lawrence ...   \n",
       "3           Shane Acker  Elijah Wood, John C. Reilly, Jennifer Connelly...   \n",
       "4        Robert Luketic  Jim Sturgess, Kevin Spacey, Kate Bosworth, Aar...   \n",
       "...                 ...                                                ...   \n",
       "7782        Josef Fares  Imad Creidi, Antoinette Turk, Elias Gergi, Car...   \n",
       "7783        Mozez Singh  Vicky Kaushal, Sarah-Jane Dias, Raaghav Chanan...   \n",
       "7784            No Data                                            Nasty C   \n",
       "7785            No Data                         Adriano Zumbo, Rachel Khoo   \n",
       "7786           Sam Dunn                                            No Data   \n",
       "\n",
       "                                                country          date_added  \\\n",
       "0                                                Brazil     August 14, 2020   \n",
       "1                                                Mexico   December 23, 2016   \n",
       "2                                             Singapore   December 20, 2018   \n",
       "3                                         United States   November 16, 2017   \n",
       "4                                         United States     January 1, 2020   \n",
       "...                                                 ...                 ...   \n",
       "7782  Sweden, Czech Republic, United Kingdom, Denmar...    October 19, 2020   \n",
       "7783                                              India       March 2, 2019   \n",
       "7784                                      United States  September 25, 2020   \n",
       "7785                                          Australia    October 31, 2020   \n",
       "7786              United Kingdom, Canada, United States       March 1, 2020   \n",
       "\n",
       "      release_year   duration  \\\n",
       "0             2020  4 Seasons   \n",
       "1             2016     93 min   \n",
       "2             2011     78 min   \n",
       "3             2009     80 min   \n",
       "4             2008    123 min   \n",
       "...            ...        ...   \n",
       "7782          2005     99 min   \n",
       "7783          2015    111 min   \n",
       "7784          2019     44 min   \n",
       "7785          2019   1 Season   \n",
       "7786          2019     90 min   \n",
       "\n",
       "                                              listed_in  \\\n",
       "0     International TV Shows, TV Dramas, TV Sci-Fi &...   \n",
       "1                          Dramas, International Movies   \n",
       "2                   Horror Movies, International Movies   \n",
       "3     Action & Adventure, Independent Movies, Sci-Fi...   \n",
       "4                                                Dramas   \n",
       "...                                                 ...   \n",
       "7782                       Dramas, International Movies   \n",
       "7783     Dramas, International Movies, Music & Musicals   \n",
       "7784  Documentaries, International Movies, Music & M...   \n",
       "7785                 International TV Shows, Reality TV   \n",
       "7786                    Documentaries, Music & Musicals   \n",
       "\n",
       "                                            description  \n",
       "0     In a future where the elite inhabit an island ...  \n",
       "1     After a devastating earthquake hits Mexico Cit...  \n",
       "2     When an army recruit is found dead, his fellow...  \n",
       "3     In a postapocalyptic world, rag-doll robots hi...  \n",
       "4     A brilliant group of students become card-coun...  \n",
       "...                                                 ...  \n",
       "7782  When Lebanon's Civil War deprives Zozo of his ...  \n",
       "7783  A scrappy but poor boy worms his way into a ty...  \n",
       "7784  In this documentary, South African rapper Nast...  \n",
       "7785  Dessert wizard Adriano Zumbo looks for the nex...  \n",
       "7786  This documentary delves into the mystique behi...  \n",
       "\n",
       "[7787 rows x 11 columns]"
      ]
     },
     "execution_count": 76,
     "metadata": {},
     "output_type": "execute_result"
    }
   ],
   "source": [
    "#YOUR CODE HERE\n",
    "netflix_data.dropna(axis=0, subset=['country'])"
   ]
  },
  {
   "cell_type": "markdown",
   "metadata": {},
   "source": [
    "<b><font color='#8B0000'>TASK</font></b>\n",
    "\n",
    "Create a new column in the dataframe called 'first_country'. It should contain only the first country from the 'country' column (up to the first comma)."
   ]
  },
  {
   "cell_type": "code",
   "execution_count": 77,
   "metadata": {},
   "outputs": [],
   "source": [
    "#YOUR CODE HERE\n",
    "first_countries = []\n",
    "for val in netflix_data['country']:\n",
    "    split_val = val.split(', ')\n",
    "    first_countries.append(split_val[0])\n",
    "\n",
    "netflix_data.insert(6, 'first_country', first_countries)"
   ]
  },
  {
   "cell_type": "markdown",
   "metadata": {},
   "source": [
    "<b><font color='#8B0000'>TASK</font></b>\n",
    "\n",
    "Replace the name of the countries in the 'first_country' column as follows:\n",
    "\n",
    "- United States --> USA\n",
    "\n",
    "- United Kingdom --> UK\n",
    "\n",
    "- South Korea --> S. Korea\n"
   ]
  },
  {
   "cell_type": "code",
   "execution_count": 78,
   "metadata": {},
   "outputs": [],
   "source": [
    "#YOUR CODE HERE\n",
    "netflix_data.loc[netflix_data['first_country'] == 'United States', 'first_country'] = 'USA'\n",
    "netflix_data.loc[netflix_data['first_country'] == 'United Kingdom', 'first_country'] = 'UK'\n",
    "netflix_data.loc[netflix_data['first_country'] == 'South Korea', 'first_country'] = 'S. Korea'"
   ]
  },
  {
   "cell_type": "markdown",
   "metadata": {
    "papermill": {
     "duration": 0.036705,
     "end_time": "2021-04-01T06:48:16.585232",
     "exception": false,
     "start_time": "2021-04-01T06:48:16.548527",
     "status": "completed"
    },
    "slideshow": {
     "slide_type": "slide"
    },
    "tags": []
   },
   "source": [
    "## Visualizations"
   ]
  },
  {
   "cell_type": "markdown",
   "metadata": {},
   "source": [
    "<b><font color='#8B0000'>TASK</font></b>\n",
    "\n",
    "Create a new dataframe, called **\"mt_ratio\"**. It should contain **1 row** and **2 columns**. \n",
    "\n",
    "The dataframe should contain the ratio of the different types of content to all available content on Netlix. \n",
    "\n",
    "For example, if 81% of the content on Netflix is represented by movies, you should have a column with the type Movie and 0.81 content ratio.\n",
    "\n",
    "**Tip**: There is a column in the dataframe which designates the type of the content."
   ]
  },
  {
   "cell_type": "code",
   "execution_count": 79,
   "metadata": {
    "papermill": {
     "duration": 0.066841,
     "end_time": "2021-04-01T06:48:17.599199",
     "exception": false,
     "start_time": "2021-04-01T06:48:17.532358",
     "status": "completed"
    },
    "slideshow": {
     "slide_type": "skip"
    },
    "tags": []
   },
   "outputs": [],
   "source": [
    "#YOUR CODE HERE\n",
    "movie_ratio = netflix_data['type'].value_counts().iloc[0] / (netflix_data['type'].value_counts().iloc[0] + netflix_data['type'].value_counts().iloc[1])\n",
    "tv_ratio = netflix_data['type'].value_counts().iloc[1] / (netflix_data['type'].value_counts().iloc[0] + netflix_data['type'].value_counts().iloc[1])\n",
    "mt_ratio = pd.DataFrame({'Movie': [movie_ratio], 'TV Show': [tv_ratio]})"
   ]
  },
  {
   "cell_type": "markdown",
   "metadata": {},
   "source": [
    "<b><font color='#8B0000'>TASK</font></b>\n",
    "\n",
    "Create a **horizontal bar plot** which presents the relative share of the different types of content on Netflix (Movies and TV Series).\n",
    "\n",
    "***REQUIREMENTS:***\n",
    "- figure DPI should be **140**\n",
    " - figure size should be **(6.5, 2.5)**\n",
    " - use `#b20710` color for Movies, and `#221f1f` for TV Series\n",
    " - figure title should be **'Relative share of types of content on Netflix'**\n",
    " - create a figure **legend** in the **upper right** corner of the figure\n",
    " - no axis"
   ]
  },
  {
   "cell_type": "code",
   "execution_count": 80,
   "metadata": {},
   "outputs": [
    {
     "data": {
      "image/png": "[encoded data removed]",
      "text/plain": [
       "<Figure size 910x350 with 1 Axes>"
      ]
     },
     "metadata": {},
     "output_type": "display_data"
    }
   ],
   "source": [
    "#YOUR CODE HERE\n",
    "x = ['Movies', 'TV Series']\n",
    "y = [mt_ratio['Movie'].iloc[0], mt_ratio['TV Show'].iloc[0]]\n",
    "color_map = ['#b20710', '#221f1f']\n",
    "plt.figure(figsize =(6.5, 2.5))\n",
    "plt.title('Relative share of types of content on Netflix')\n",
    "plt.barh(x, y, color=color_map)\n",
    "plt.legend(labels=['Movies', 'TV Series'], loc='upper right')\n",
    "plt.rcParams['figure.dpi'] = 140"
   ]
  },
  {
   "cell_type": "code",
   "execution_count": 81,
   "metadata": {},
   "outputs": [
    {
     "name": "stdout",
     "output_type": "stream",
     "text": [
      "Helper cell was run. Continue!\n"
     ]
    }
   ],
   "source": [
    "#HELPER CELL - RUN IT!\n",
    "netflix_data['count'] = 1\n",
    "print('Helper cell was run. Continue!')"
   ]
  },
  {
   "cell_type": "markdown",
   "metadata": {},
   "source": [
    "<b><font color='#8B0000'>TASK</font></b>\n",
    "\n",
    "Create a variable called **'top_10_countries'** which stores the top 10 countries by count of content they add."
   ]
  },
  {
   "cell_type": "code",
   "execution_count": 82,
   "metadata": {},
   "outputs": [],
   "source": [
    "#YOUR CODE HERE\n",
    "countries_content_count = netflix_data.groupby(by='country').count()\n",
    "sorted_countries_content_count = countries_content_count.sort_values(by='count')\n",
    "top_10_countries_by_content = sorted_countries_content_count.nlargest(10, 'count')"
   ]
  },
  {
   "cell_type": "markdown",
   "metadata": {},
   "source": [
    "<b><font color='#8B0000'>TASK</font></b>\n",
    "\n",
    "Create a **vertical bar plot** which presents the top 10 countries by content.\n",
    "\n",
    "***REQUIREMENTS:***\n",
    "\n",
    "\n",
    "- figure size should be **(12, 5)**\n",
    "- bar width must be **0.5**\n",
    "- linewidth should be **0.6**,\n",
    "- top 3 bars must be **colored** with `#b20710`,\n",
    "- the other bars must be colored with `#f5f5f1`,\n",
    "- y axis should be named **'Number of contributions'**\n",
    "- figure title should be **'Top 10 contributors of content'**"
   ]
  },
  {
   "cell_type": "code",
   "execution_count": 83,
   "metadata": {},
   "outputs": [
    {
     "data": {
      "image/png": "[encoded data removed]",
      "text/plain": [
       "<Figure size 1680x700 with 1 Axes>"
      ]
     },
     "metadata": {},
     "output_type": "display_data"
    }
   ],
   "source": [
    "#YOUR CODE HERE\n",
    "x = top_10_countries_by_content.index.values[::-1]\n",
    "y = top_10_countries_by_content['count'].values[::-1]\n",
    "color_map = ['#f5f5f1', '#f5f5f1', '#f5f5f1', '#f5f5f1', '#f5f5f1', '#f5f5f1', '#f5f5f1', '#b20710', '#b20710', '#b20710']\n",
    "plt.figure(figsize =(12, 5))\n",
    "plt.title('Top 10 contributors of content')\n",
    "plt.bar(x, y, color=color_map, width=0.5, linewidth=0.6)\n",
    "plt.ylabel('Number of contributions')\n",
    "plt.show()"
   ]
  },
  {
   "cell_type": "code",
   "execution_count": 84,
   "metadata": {},
   "outputs": [
    {
     "name": "stdout",
     "output_type": "stream",
     "text": [
      "Helper cell was run. Continue!\n"
     ]
    }
   ],
   "source": [
    "#HELPER CELL - RUN IT!\n",
    "netflix_data[\"date_added\"] = pd.to_datetime(netflix_data['date_added'], format=\"mixed\")\n",
    "netflix_data['year_added'] = netflix_data['date_added'].dt.year\n",
    "print('Helper cell was run. Continue!')"
   ]
  },
  {
   "cell_type": "markdown",
   "metadata": {},
   "source": [
    "<b><font color='#8B0000'>TASK</font></b>\n",
    "\n",
    "The helper cell above create new columns which you can use to create a line plot.\n",
    "\n",
    "Create a **line plot** which presents the content added on Netflix throughout the years.\n",
    "\n",
    "***REQUIREMENTS:***\n",
    "\n",
    "\n",
    "- figure size should be **(12, 5)**\n",
    "- Movie line should be **colored** with `#b20710`,\n",
    "- TV Show line must be **colored** with `#221f1f\"`,\n",
    "- y axis should be named **'Number of contributions'**\n",
    "- figure title should be **'Contributions throughout the years'**\n",
    "- area below every line should be **filled** with the respective color"
   ]
  },
  {
   "cell_type": "code",
   "execution_count": 85,
   "metadata": {},
   "outputs": [
    {
     "data": {
      "image/png": "[encoded data removed]",
      "text/plain": [
       "<Figure size 1680x700 with 1 Axes>"
      ]
     },
     "metadata": {},
     "output_type": "display_data"
    }
   ],
   "source": [
    "#YOUR CODE HERE\n",
    "#added_years_count = netflix_data.groupby(by=['year_added', 'type']).count() ---> did not have time to figure out how to implement the data this way\n",
    "\n",
    "added_years_count = netflix_data.groupby(by='year_added').count()\n",
    "\n",
    "x_unsorted = netflix_data['year_added'].value_counts().index.values\n",
    "x = np.sort(x_unsorted)\n",
    "y = added_years_count['show_id'].values[0::]\n",
    "color_map = '#b20710'\n",
    "plt.figure(figsize =(12, 5))\n",
    "plt.title('Contributions throughout the years')\n",
    "plt.plot(x, y, color=color_map)\n",
    "plt.ylabel('Number of contributions')\n",
    "plt.show()"
   ]
  },
  {
   "cell_type": "raw",
   "metadata": {},
   "source": []
  },
  {
   "cell_type": "markdown",
   "metadata": {},
   "source": [
    "# PART TWO - WORKING WITH TEXT"
   ]
  },
  {
   "cell_type": "markdown",
   "metadata": {},
   "source": [
    "Underneath you will find raw text which you should format according to the given final version of the text. Please, input your final, formatted text, in the last cell of the notebook denoted with the comment _#YOUR FINAL TEXT HERE_."
   ]
  },
  {
   "cell_type": "markdown",
   "metadata": {},
   "source": [
    "### Raw text"
   ]
  },
  {
   "cell_type": "markdown",
   "metadata": {},
   "source": [
    "Netflix is an American subscription video on-demand streaming service owned and operated by Netflix, Inc. The service primarily distributes films and television series. It is available internationally in multiple languages. Netflix was launched on January 16, 2007, nearly a decade after Netflix, Inc. began its DVD-by-mail service. With 238.39 million paid memberships in more than 190 countries, it is the most-subscribed video on demand streaming service. By 2022, original productions accounted for half of Netflix's library in the United States, and the company had ventured into other categories, such as video game publishing via the Netflix service. More on Netflix game here (insert the following hyperlink https://help.netflix.com/en/node/121442)."
   ]
  },
  {
   "cell_type": "markdown",
   "metadata": {},
   "source": [
    "### Final text - example"
   ]
  },
  {
   "attachments": {
    "%D0%95%D0%BA%D1%80%D0%B0%D0%BD%D0%BD%D0%B0%20%D1%81%D0%BD%D0%B8%D0%BC%D0%BA%D0%B0%202023-12-28%20101530.png": {
     "image/png": "[encoded data removed]"
    }
   },
   "cell_type": "markdown",
   "metadata": {},
   "source": [
    "![%D0%95%D0%BA%D1%80%D0%B0%D0%BD%D0%BD%D0%B0%20%D1%81%D0%BD%D0%B8%D0%BC%D0%BA%D0%B0%202023-12-28%20101530.png](attachment:%D0%95%D0%BA%D1%80%D0%B0%D0%BD%D0%BD%D0%B0%20%D1%81%D0%BD%D0%B8%D0%BC%D0%BA%D0%B0%202023-12-28%20101530.png)"
   ]
  },
  {
   "cell_type": "markdown",
   "metadata": {},
   "source": [
    "Netflix is an American subscription video on-demand streaming service owned and operated by *Netflix, Inc*. The service primarily distributes **films** and **television series**. It is available internationally in multiple languages. Netflix was launched on January 16, 2007, nearly a decade after Netflix, Inc. began its DVD-by-mail service. With 238.39 million paid memberships in <u>more than 190 countries</u>, it is the most-subscribed video on demand streaming service. By 2022, original productions accounted for half of Netflix's library in the United States, and the company had ventured into other categories, such as video game publishing via the Netflix service. More on Netflix game <u>[here](https://help.netflix.com/en/node/121442)</u>."
   ]
  }
 ],
 "metadata": {
  "kernelspec": {
   "display_name": "Python 3 (ipykernel)",
   "language": "python",
   "name": "python3"
  },
  "language_info": {
   "codemirror_mode": {
    "name": "ipython",
    "version": 3
   },
   "file_extension": ".py",
   "mimetype": "text/x-python",
   "name": "python",
   "nbconvert_exporter": "python",
   "pygments_lexer": "ipython3",
   "version": "3.9.13"
  },
  "papermill": {
   "default_parameters": {},
   "duration": 25.567508,
   "end_time": "2021-04-01T06:48:33.056801",
   "environment_variables": {},
   "exception": null,
   "input_path": "__notebook__.ipynb",
   "output_path": "__notebook__.ipynb",
   "parameters": {},
   "start_time": "2021-04-01T06:48:07.489293",
   "version": "2.2.2"
  }
 },
 "nbformat": 4,
 "nbformat_minor": 4
}

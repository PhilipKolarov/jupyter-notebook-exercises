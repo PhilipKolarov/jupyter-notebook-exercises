{
 "cells": [
  {
   "cell_type": "code",
   "execution_count": 4,
   "id": "6f951834-624c-4efb-b337-9754add97ea7",
   "metadata": {},
   "outputs": [
    {
     "name": "stdin",
     "output_type": "stream",
     "text": [
      " 2\n",
      " 10\n",
      " 25\n"
     ]
    },
    {
     "name": "stdout",
     "output_type": "stream",
     "text": [
      "0    20\n",
      "1    50\n",
      "dtype: int64\n"
     ]
    }
   ],
   "source": [
    "import pandas as pd\n",
    "\n",
    "n = int(input())\n",
    "my_array = []\n",
    "for _ in range(0, n):\n",
    "    el = int(input())\n",
    "    my_array.append(el)\n",
    "\n",
    "pd_series = pd.Series(my_array)\n",
    "pd_series *= 2\n",
    "print(pd_series)"
   ]
  },
  {
   "cell_type": "code",
   "execution_count": null,
   "id": "c4796576-4015-4aa0-a2bf-16e9029b0780",
   "metadata": {},
   "outputs": [],
   "source": []
  }
 ],
 "metadata": {
  "kernelspec": {
   "display_name": "Python 3 (ipykernel)",
   "language": "python",
   "name": "python3"
  },
  "language_info": {
   "codemirror_mode": {
    "name": "ipython",
    "version": 3
   },
   "file_extension": ".py",
   "mimetype": "text/x-python",
   "name": "python",
   "nbconvert_exporter": "python",
   "pygments_lexer": "ipython3",
   "version": "3.9.13"
  }
 },
 "nbformat": 4,
 "nbformat_minor": 5
}

{
 "cells": [
  {
   "cell_type": "code",
   "execution_count": 15,
   "id": "865dff57-c810-43db-a7f3-aa309fc20504",
   "metadata": {},
   "outputs": [
    {
     "name": "stdin",
     "output_type": "stream",
     "text": [
      " 2\n",
      " 4\n",
      " 4\n"
     ]
    },
    {
     "name": "stdout",
     "output_type": "stream",
     "text": [
      "True\n"
     ]
    }
   ],
   "source": [
    "import pandas as pd\n",
    "\n",
    "n = int(input())\n",
    "my_array = []\n",
    "for _ in range(0, n):\n",
    "    el = int(input())\n",
    "    my_array.append(el)\n",
    "\n",
    "pd_series = pd.Series(my_array)\n",
    "duplicated_series = pd_series.duplicated()\n",
    "print(duplicated_series.any())"
   ]
  }
 ],
 "metadata": {
  "kernelspec": {
   "display_name": "Python 3 (ipykernel)",
   "language": "python",
   "name": "python3"
  },
  "language_info": {
   "codemirror_mode": {
    "name": "ipython",
    "version": 3
   },
   "file_extension": ".py",
   "mimetype": "text/x-python",
   "name": "python",
   "nbconvert_exporter": "python",
   "pygments_lexer": "ipython3",
   "version": "3.9.13"
  }
 },
 "nbformat": 4,
 "nbformat_minor": 5
}

{
 "cells": [
  {
   "cell_type": "code",
   "execution_count": 5,
   "id": "04c53972-47b9-4086-9b1a-812c458e50f9",
   "metadata": {},
   "outputs": [
    {
     "name": "stdin",
     "output_type": "stream",
     "text": [
      " 2\n",
      " 1\n",
      " 1\n"
     ]
    },
    {
     "name": "stdout",
     "output_type": "stream",
     "text": [
      "0    1\n",
      "dtype: int64\n"
     ]
    }
   ],
   "source": [
    "import pandas as pd\n",
    "\n",
    "n = int(input())\n",
    "my_array = []\n",
    "for _ in range(0, n):\n",
    "    el = int(input())\n",
    "    my_array.append(el)\n",
    "\n",
    "pd_series = pd.Series(my_array)\n",
    "pd_series = pd_series.drop_duplicates()\n",
    "print(pd_series)"
   ]
  }
 ],
 "metadata": {
  "kernelspec": {
   "display_name": "Python 3 (ipykernel)",
   "language": "python",
   "name": "python3"
  },
  "language_info": {
   "codemirror_mode": {
    "name": "ipython",
    "version": 3
   },
   "file_extension": ".py",
   "mimetype": "text/x-python",
   "name": "python",
   "nbconvert_exporter": "python",
   "pygments_lexer": "ipython3",
   "version": "3.9.13"
  }
 },
 "nbformat": 4,
 "nbformat_minor": 5
}

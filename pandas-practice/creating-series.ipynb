{
 "cells": [
  {
   "cell_type": "code",
   "execution_count": 7,
   "id": "960c9c8e-ca17-4ab0-974b-9fc0311a8290",
   "metadata": {},
   "outputs": [
    {
     "name": "stdin",
     "output_type": "stream",
     "text": [
      " 0\n"
     ]
    },
    {
     "name": "stdout",
     "output_type": "stream",
     "text": [
      "Series([], dtype: object)\n"
     ]
    }
   ],
   "source": [
    "import pandas as pd\n",
    "\n",
    "n = int(input())\n",
    "my_array = []\n",
    "for _ in range(0, n):\n",
    "    el = int(input())\n",
    "    my_array.append(el)\n",
    "\n",
    "pd_series = pd.Series(my_array)\n",
    "print(pd_series)"
   ]
  },
  {
   "cell_type": "code",
   "execution_count": null,
   "id": "c9d2203a-77a3-4918-a009-c7e99d3d4a98",
   "metadata": {},
   "outputs": [],
   "source": []
  }
 ],
 "metadata": {
  "kernelspec": {
   "display_name": "Python 3 (ipykernel)",
   "language": "python",
   "name": "python3"
  },
  "language_info": {
   "codemirror_mode": {
    "name": "ipython",
    "version": 3
   },
   "file_extension": ".py",
   "mimetype": "text/x-python",
   "name": "python",
   "nbconvert_exporter": "python",
   "pygments_lexer": "ipython3",
   "version": "3.9.13"
  }
 },
 "nbformat": 4,
 "nbformat_minor": 5
}
